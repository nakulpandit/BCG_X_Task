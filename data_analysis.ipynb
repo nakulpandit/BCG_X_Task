{
 "cells": [
  {
   "cell_type": "markdown",
   "id": "3f1abbe1",
   "metadata": {},
   "source": [
    "## Analysing the Finicials_10k Data"
   ]
  },
  {
   "cell_type": "code",
   "execution_count": null,
   "id": "d18a3261",
   "metadata": {
    "vscode": {
     "languageId": "plaintext"
    }
   },
   "outputs": [],
   "source": []
  }
 ],
 "metadata": {
  "language_info": {
   "name": "python"
  }
 },
 "nbformat": 4,
 "nbformat_minor": 5
}
